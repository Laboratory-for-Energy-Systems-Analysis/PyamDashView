{
 "cells": [
  {
   "cell_type": "code",
   "id": "initial_id",
   "metadata": {
    "collapsed": true,
    "ExecuteTime": {
     "end_time": "2025-07-30T07:53:44.489476Z",
     "start_time": "2025-07-30T07:53:41.748489Z"
    }
   },
   "source": [
    "from premise import *\n",
    "from premise import __version__\n",
    "import pandas as pd"
   ],
   "outputs": [],
   "execution_count": 1
  },
  {
   "metadata": {
    "ExecuteTime": {
     "end_time": "2025-07-29T15:41:27.539640Z",
     "start_time": "2025-07-29T15:41:27.535942Z"
    }
   },
   "cell_type": "code",
   "source": "clear_inventory_cache()",
   "id": "c781ce72741d163d",
   "outputs": [
    {
     "name": "stdout",
     "output_type": "stream",
     "text": [
      "Inventory cache cleared!\n"
     ]
    }
   ],
   "execution_count": 2
  },
  {
   "metadata": {
    "ExecuteTime": {
     "end_time": "2025-07-30T07:53:48.800037Z",
     "start_time": "2025-07-30T07:53:48.253147Z"
    }
   },
   "cell_type": "code",
   "source": [
    "import bw2data\n",
    "bw2data.projects.set_current(\"ecoinvent-3.11-cutoff\")"
   ],
   "id": "fb2e34c43befa9ba",
   "outputs": [],
   "execution_count": 2
  },
  {
   "metadata": {
    "ExecuteTime": {
     "end_time": "2025-07-30T07:54:37.723838Z",
     "start_time": "2025-07-30T07:53:48.811275Z"
    }
   },
   "cell_type": "code",
   "source": [
    "ndb = NewDatabase(\n",
    "    scenarios=[\n",
    "        {\"model\": \"remind\", \"pathway\": \"SSP1-NPi\", \"year\": 2025,},\n",
    "        {\"model\": \"remind\", \"pathway\": \"SSP1-PkBudg650\", \"year\": 2025,},\n",
    "        {\"model\": \"remind\", \"pathway\": \"SSP1-PkBudg1000\", \"year\": 2025,},\n",
    "        {\"model\": \"remind\", \"pathway\": \"SSP2-rollBack\", \"year\": 2025,},\n",
    "        {\"model\": \"remind\", \"pathway\": \"SSP2-NDC\", \"year\": 2025,},\n",
    "        {\"model\": \"remind\", \"pathway\": \"SSP2-NPi\", \"year\": 2025,},\n",
    "        {\"model\": \"remind\", \"pathway\": \"SSP2-PkBudg650\", \"year\": 2025,},\n",
    "        {\"model\": \"remind\", \"pathway\": \"SSP2-PkBudg1000\", \"year\": 2025,},\n",
    "        {\"model\": \"remind\", \"pathway\": \"SSP3-rollBack\", \"year\": 2025,},\n",
    "        {\"model\": \"remind\", \"pathway\": \"SSP3-NDC\", \"year\": 2025,},\n",
    "        {\"model\": \"remind\", \"pathway\": \"SSP3-NPi\", \"year\": 2025,},\n",
    "        {\"model\": \"remind\", \"pathway\": \"SSP3-PkBudg1000\", \"year\": 2025,},\n",
    "\n",
    "        {\"model\": \"remind-eu\", \"pathway\": \"SSP2-NDC\", \"year\": 2025,},\n",
    "        {\"model\": \"remind-eu\", \"pathway\": \"SSP2-NPi\", \"year\": 2025,},\n",
    "        {\"model\": \"remind-eu\", \"pathway\": \"SSP2-PkBudg650\", \"year\": 2025,},\n",
    "        {\"model\": \"remind-eu\", \"pathway\": \"SSP2-PkBudg1000\", \"year\": 2025,},\n",
    "\n",
    "        {\"model\": \"image\", \"pathway\": \"SSP1-L\", \"year\": 2025,},\n",
    "        {\"model\": \"image\", \"pathway\": \"SSP1-Ma\", \"year\": 2025,},\n",
    "        {\"model\": \"image\", \"pathway\": \"SSP1-VLLO\", \"year\": 2025,},\n",
    "        {\"model\": \"image\", \"pathway\": \"SSP2-L\", \"year\": 2025,},\n",
    "        {\"model\": \"image\", \"pathway\": \"SSP2-M\", \"year\": 2025,},\n",
    "        {\"model\": \"image\", \"pathway\": \"SSP2-VLHO\", \"year\": 2025,},\n",
    "        {\"model\": \"image\", \"pathway\": \"SSP3-H\", \"year\": 2025,},\n",
    "        {\"model\": \"image\", \"pathway\": \"SSP5-H\", \"year\": 2025,},\n",
    "\n",
    "        {\"model\": \"tiam-ucl\", \"pathway\": \"SSP2-Base\", \"year\": 2025,},\n",
    "        {\"model\": \"tiam-ucl\", \"pathway\": \"SSP2-RCP19\", \"year\": 2025,},\n",
    "        {\"model\": \"tiam-ucl\", \"pathway\": \"SSP2-RCP26\", \"year\": 2025,},\n",
    "        {\"model\": \"tiam-ucl\", \"pathway\": \"SSP2-RCP45\", \"year\": 2025,},\n",
    "    ],\n",
    "    source_db=\"ecoinvent-3.11-cutoff\", # <-- name of the database in the BW2 project. Must be a string.\n",
    "    source_version=\"3.11\", # <-- version of ecoinvent. Can be \"3.5\", \"3.6\", \"3.7\" or \"3.8\". Must be a string.\n",
    "    key=\"tUePmX_S5B8ieZkkM7WUU2CnO8SmShwmAeWK9x2rTFo=\",\n",
    "    biosphere_name=\"biosphere3\",\n",
    "    keep_imports_uncertainty=True\n",
    ")"
   ],
   "id": "abcd00bec10b0f55",
   "outputs": [
    {
     "name": "stdout",
     "output_type": "stream",
     "text": [
      "premise v.(2, 3, 0, 'dev1')\n",
      "+------------------------------------------------------------------+\n",
      "| Warning                                                          |\n",
      "+------------------------------------------------------------------+\n",
      "| Because some of the scenarios can yield LCI databases            |\n",
      "| containing net negative emission technologies (NET),             |\n",
      "| it is advised to account for biogenic CO2 flows when calculating |\n",
      "| Global Warming potential indicators.                             |\n",
      "| `premise_gwp` provides characterization factors for such flows.  |\n",
      "| It also provides factors for hydrogen emissions to air.          |\n",
      "|                                                                  |\n",
      "| Within your Brightway project:                                   |\n",
      "| from premise_gwp import add_premise_gwp                          |\n",
      "| add_premise_gwp()                                                |\n",
      "+------------------------------------------------------------------+\n",
      "+--------------------------------+----------------------------------+\n",
      "| Utils functions                | Description                      |\n",
      "+--------------------------------+----------------------------------+\n",
      "| clear_cache()                  | Clears the cache folder. Useful  |\n",
      "|                                | when updating `premise`or        |\n",
      "|                                | encountering issues with         |\n",
      "|                                | inventories.                     |\n",
      "| get_regions_definition(model)  | Retrieves the list of countries  |\n",
      "|                                | for each region of the model.    |\n",
      "| ndb.NewDatabase(...)           | Generates a summary of the most  |\n",
      "| ndb.generate_scenario_report() | important scenarios' variables.  |\n",
      "+--------------------------------+----------------------------------+\n",
      "Keep uncertainty data?\n",
      "NewDatabase(..., keep_source_db_uncertainty=True), keep_imports_uncertainty=True)\n",
      "\n",
      "Hide these messages?\n",
      "NewDatabase(..., quiet=True)\n",
      "- Extracting source database\n",
      "- Extracting inventories\n",
      "- Fetching IAM data\n",
      "The following variables are missing from the IAM file: /Users/romain/GitHub/premise/premise/data/iam_output_files/tiam-ucl_SSP2-Base.csv\n",
      "+-------------------------------------------------------------------+\n",
      "|                              Variable                             |\n",
      "+-------------------------------------------------------------------+\n",
      "| Final Energy|Transport|Truck|Light|Hydrogen Fuel Cell|Electricity |\n",
      "|     Final Energy|Transport|Car|Hydrogen Fuel Cell|Electricity     |\n",
      "+-------------------------------------------------------------------+\n",
      "The following variables are missing from the IAM file: /Users/romain/GitHub/premise/premise/data/iam_output_files/tiam-ucl_SSP2-RCP19.csv\n",
      "+-----------------------------------------------------------------+\n",
      "|                             Variable                            |\n",
      "+-----------------------------------------------------------------+\n",
      "| Final Energy|Transport|Air|International|Synthetic Jet Kerosene |\n",
      "|    Final Energy|Transport|Air|Domestic|Synthetic Jet Kerosene   |\n",
      "+-----------------------------------------------------------------+\n",
      "The following variables are missing from the IAM file: /Users/romain/GitHub/premise/premise/data/iam_output_files/tiam-ucl_SSP2-RCP26.csv\n",
      "+-------------------------------------------------------------------+\n",
      "|                              Variable                             |\n",
      "+-------------------------------------------------------------------+\n",
      "| Final Energy|Transport|Truck|Light|Hydrogen Fuel Cell|Electricity |\n",
      "|     Final Energy|Transport|Car|Hydrogen Fuel Cell|Electricity     |\n",
      "+-------------------------------------------------------------------+\n",
      "Done!\n"
     ]
    }
   ],
   "execution_count": 3
  },
  {
   "metadata": {
    "ExecuteTime": {
     "end_time": "2025-07-30T07:54:38.421568Z",
     "start_time": "2025-07-30T07:54:37.732572Z"
    }
   },
   "cell_type": "code",
   "source": [
    "import pandas as pd\n",
    "\n",
    "# Load the Excel file to check all sheet names\n",
    "file_path = 'mapping_overview.xlsx'\n",
    "excel_file = pd.ExcelFile(file_path)\n",
    "\n",
    "# Display all sheet names\n",
    "sheet_names = excel_file.sheet_names\n",
    "\n",
    "# Load data from each sheet into a dictionary of dataframes\n",
    "dfs = {sheet: pd.read_excel(file_path, sheet_name=sheet) for sheet in sheet_names}\n",
    "\n",
    "# Concatenate all the dataframes into one, adding a column to indicate the source sheet\n",
    "combined_df = pd.concat([df.assign(Sheet=sheet) for sheet, df in dfs.items()], ignore_index=True)\n"
   ],
   "id": "fc3259e10baec88d",
   "outputs": [],
   "execution_count": 4
  },
  {
   "metadata": {
    "ExecuteTime": {
     "end_time": "2025-07-30T07:54:38.441697Z",
     "start_time": "2025-07-30T07:54:38.439172Z"
    }
   },
   "cell_type": "code",
   "source": "combined_df = combined_df.loc[combined_df[\"Variable Type\"]==\"Production volume\"]",
   "id": "bc2f3f6c68c48c55",
   "outputs": [],
   "execution_count": 5
  },
  {
   "metadata": {
    "ExecuteTime": {
     "end_time": "2025-07-30T07:54:38.466622Z",
     "start_time": "2025-07-30T07:54:38.462354Z"
    }
   },
   "cell_type": "code",
   "source": "len(combined_df)",
   "id": "d4907a5cb70e3788",
   "outputs": [
    {
     "data": {
      "text/plain": [
       "1700"
      ]
     },
     "execution_count": 6,
     "metadata": {},
     "output_type": "execute_result"
    }
   ],
   "execution_count": 6
  },
  {
   "metadata": {
    "ExecuteTime": {
     "end_time": "2025-07-30T07:56:19.752603Z",
     "start_time": "2025-07-30T07:54:38.484054Z"
    }
   },
   "cell_type": "code",
   "source": [
    "large_data = pd.DataFrame()\n",
    "for scenario in ndb.scenarios:\n",
    "    model = scenario[\"model\"]\n",
    "    pathway = scenario[\"pathway\"]\n",
    "    print(model, pathway)\n",
    "    for i, row in combined_df.loc[combined_df[\"IAM Model\"]==model].groupby(\n",
    "        [\"Sheet\", \"Variable\"]\n",
    "    ):\n",
    "\n",
    "        var, _, _, _, sector = row.values.tolist()[0]\n",
    "\n",
    "        data = None\n",
    "\n",
    "        if var in (\n",
    "            \"CO2\", \"gdp\", \"population\", \"GMST\"\n",
    "        ):\n",
    "            data = scenario[\"iam data\"].other_vars.sel(variables=var)\n",
    "        else:\n",
    "            if var in scenario[\"iam data\"].production_volumes.coords[\"variables\"].values.tolist():\n",
    "                data = scenario[\"iam data\"].production_volumes.sel(variables=var)\n",
    "            else:\n",
    "                continue\n",
    "\n",
    "        if data is not None:\n",
    "            long_data = data.to_dataframe(\"val\").reset_index()\n",
    "            long_data[\"sector\"] = sector\n",
    "            long_data[\"model\"] = model\n",
    "            long_data[\"scenario\"] = pathway\n",
    "            long_data = long_data.loc[long_data[\"year\"] <= 2100]\n",
    "            large_data = pd.concat([large_data, long_data])"
   ],
   "id": "7dca74b7df61c980",
   "outputs": [
    {
     "name": "stdout",
     "output_type": "stream",
     "text": [
      "remind SSP1-NPi\n",
      "remind SSP1-PkBudg650\n",
      "remind SSP1-PkBudg1000\n",
      "remind SSP2-rollBack\n",
      "remind SSP2-NDC\n",
      "remind SSP2-NPi\n",
      "remind SSP2-PkBudg650\n",
      "remind SSP2-PkBudg1000\n",
      "remind SSP3-rollBack\n",
      "remind SSP3-NDC\n",
      "remind SSP3-NPi\n",
      "remind SSP3-PkBudg1000\n",
      "remind-eu SSP2-NDC\n",
      "remind-eu SSP2-NPi\n",
      "remind-eu SSP2-PkBudg650\n",
      "remind-eu SSP2-PkBudg1000\n",
      "image SSP1-L\n",
      "image SSP1-Ma\n",
      "image SSP1-VLLO\n",
      "image SSP2-L\n",
      "image SSP2-M\n",
      "image SSP2-VLHO\n",
      "image SSP3-H\n",
      "image SSP5-H\n",
      "tiam-ucl SSP2-Base\n",
      "tiam-ucl SSP2-RCP19\n",
      "tiam-ucl SSP2-RCP26\n",
      "tiam-ucl SSP2-RCP45\n"
     ]
    }
   ],
   "execution_count": 7
  },
  {
   "metadata": {
    "ExecuteTime": {
     "end_time": "2025-07-30T07:56:19.821337Z",
     "start_time": "2025-07-30T07:56:19.780129Z"
    }
   },
   "cell_type": "code",
   "source": [
    "sectors = large_data[\"sector\"].unique().tolist()\n",
    "for sector in sectors:\n",
    "    print(sector)\n"
   ],
   "id": "fb0457ab8c59b777",
   "outputs": [
    {
     "name": "stdout",
     "output_type": "stream",
     "text": [
      "Biomass\n",
      "Carbon Dioxide Removal\n",
      "Cement\n",
      "Electricity\n",
      "Fuels\n",
      "Heat\n",
      "Other\n",
      "Steel\n",
      "Transport Bus\n",
      "Transport Passenger Cars\n",
      "Transport Rail Freight\n",
      "Transport Road Freight\n",
      "Transport Sea Freight\n",
      "Transport Two Wheelers\n"
     ]
    }
   ],
   "execution_count": 8
  },
  {
   "metadata": {
    "ExecuteTime": {
     "end_time": "2025-07-30T07:56:19.840053Z",
     "start_time": "2025-07-30T07:56:19.837044Z"
    }
   },
   "cell_type": "code",
   "source": "len(large_data)",
   "id": "1704fd5059119a74",
   "outputs": [
    {
     "data": {
      "text/plain": [
       "1373932"
      ]
     },
     "execution_count": 9,
     "metadata": {},
     "output_type": "execute_result"
    }
   ],
   "execution_count": 9
  },
  {
   "metadata": {
    "jupyter": {
     "is_executing": true
    },
    "ExecuteTime": {
     "start_time": "2025-07-30T07:56:19.855191Z"
    }
   },
   "cell_type": "code",
   "source": [
    "large_data.loc[large_data[\"variables\"]==\"population\", \"sector\"] = \"Population\"\n",
    "large_data.loc[large_data[\"variables\"]==\"CO2\", \"sector\"] = \"Carbon Dioxide emissions\"\n",
    "large_data.loc[large_data[\"variables\"]==\"gdp\", \"sector\"] = \"Gross Domestic Product\"\n",
    "large_data.loc[large_data[\"variables\"]==\"GMST\", \"sector\"] = \"GMST increase\"\n",
    "\n",
    "large_data.loc[\n",
    "    (large_data[\"variables\"].str.contains(\"diesel\"))\n",
    "    &(~large_data[\"variables\"].str.contains(\"truck\"))\n",
    "    &(~large_data[\"variables\"].str.contains(\"train\"))\n",
    "    &(~large_data[\"variables\"].str.contains(\"bus\"))\n",
    "    &(~large_data[\"variables\"].str.contains(\"car\"))\n",
    "    &(~large_data[\"variables\"].str.contains(\"ship\"))\n",
    "    , \"sector\"] = \"Diesel\"\n",
    "\n",
    "large_data.loc[large_data[\"variables\"].str.contains(\"ethanol\"), \"sector\"] = \"Gasoline\"\n",
    "large_data.loc[\n",
    "    (large_data[\"variables\"].str.contains(\"gasoline\"))\n",
    "    &(~large_data[\"variables\"].str.contains(\"truck\"))\n",
    "    &(~large_data[\"variables\"].str.contains(\"train\"))\n",
    "    &(~large_data[\"variables\"].str.contains(\"bus\"))\n",
    "    &(~large_data[\"variables\"].str.contains(\"car\"))\n",
    "    &(~large_data[\"variables\"].str.contains(\"two-wheeler\"))\n",
    "    , \"sector\"] = \"Gasoline\"\n",
    "\n",
    "large_data.loc[large_data[\"variables\"].str.contains(\"liquefied\"), \"sector\"] = \"LPG\"\n",
    "large_data.loc[large_data[\"variables\"].str.contains(\"kerosene\"), \"sector\"] = \"Kerosene\"\n",
    "large_data.loc[large_data[\"variables\"].str.contains(\"hydrogen\"), \"sector\"] = \"Hydrogen\"\n",
    "\n",
    "large_data.loc[large_data[\"variables\"]==\"natural gas\", \"sector\"] = \"Gas\"\n",
    "large_data.loc[large_data[\"variables\"]==\"biomethane\", \"sector\"] = \"Gas\"\n",
    "large_data.loc[large_data[\"variables\"]==\"heavy fuel oil\", \"sector\"] = \"Oil\"\n",
    "\n",
    "large_data = large_data.replace(\"truck, \", \"\", regex=True)\n",
    "large_data = large_data.replace(\"train, \", \"\", regex=True)\n",
    "large_data = large_data.replace(\"bus, \", \"\", regex=True)\n",
    "large_data = large_data.replace(\"passenger car, \", \"\", regex=True)\n",
    "large_data = large_data.replace(\"two-wheeler, \", \"\", regex=True)\n",
    "\n",
    "large_data = large_data.replace(\", mini\", \"\", regex=True)\n",
    "large_data = large_data.replace(\", medium SUV\", \"\", regex=True)\n",
    "large_data = large_data.replace(\", large SUV\", \"\", regex=True)\n",
    "large_data = large_data.replace(\", medium\", \"\", regex=True)\n",
    "large_data = large_data.replace(\", van\", \"\", regex=True)\n",
    "large_data = large_data.replace(\", large\", \"\", regex=True)\n",
    "large_data = large_data.replace(\", small\", \"\", regex=True)\n",
    "\n",
    "large_data = large_data.replace(\", 3.5t\", \"\", regex=True)\n",
    "large_data = large_data.replace(\", 7.5t\", \"\", regex=True)\n",
    "large_data = large_data.replace(\", 18t\", \"\", regex=True)\n",
    "large_data = large_data.replace(\", 26t\", \"\", regex=True)\n",
    "large_data = large_data.replace(\", 40t\", \"\", regex=True)\n",
    "\n",
    "large_data = large_data.replace(\", energy allocation\", \"\", regex=True)\n",
    "large_data = large_data.replace(\"kerosene, \", \"\", regex=True)\n",
    "large_data = large_data.replace(\", PEM\", \"\", regex=True)\n",
    "large_data = large_data.replace(\"hydrogen, \", \"\", regex=True)\n",
    "large_data = large_data.replace(\"liquefied petroleum gas, \", \"LPG\", regex=True)\n",
    "large_data = large_data.replace(\"steel - \", \"\", regex=True)\n",
    "\n",
    "large_data = large_data.groupby([\n",
    "    \"region\", \"year\", \"variables\", \"sector\", \"model\", \"scenario\"\n",
    "]).sum().reset_index()\n"
   ],
   "id": "949ff0e95c65afee",
   "outputs": [],
   "execution_count": null
  },
  {
   "metadata": {
    "ExecuteTime": {
     "end_time": "2025-07-30T07:41:17.031589Z",
     "start_time": "2025-07-30T07:41:16.440594Z"
    }
   },
   "cell_type": "code",
   "source": [
    "large_data.loc[\n",
    "    (large_data[\"model\"].isin([\"image\", \"remind\", \"remind-eu\"]))\n",
    "    &(large_data[\"variables\"]==\"CO2\"),\n",
    "    \"val\"\n",
    "] *= 1000000\n",
    "large_data.loc[\n",
    "    (large_data[\"model\"]==\"tiam-ucl\")\n",
    "    &(large_data[\"variables\"]==\"CO2\"),\n",
    "    \"val\"\n",
    "] *= 1000\n",
    "large_data.loc[\n",
    "    (large_data[\"model\"]==\"tiam-ucl\")\n",
    "    &(large_data[\"variables\"]==\"gdp\"),\n",
    "    \"val\"\n",
    "] *= 10000\n",
    "\n",
    "large_data.loc[\n",
    "    (large_data[\"model\"]==\"tiam-ucl\")\n",
    "    &(large_data[\"variables\"].isin(['biomass crops - purpose grown', 'biomass wood - purpose grown', 'biomass - residual'])),\n",
    "    \"val\"\n",
    "] /= 1000\n",
    "\n",
    "large_data.loc[\n",
    "    (large_data[\"model\"]==\"remind\")\n",
    "    &(large_data[\"variables\"].isin(['biomass crops - purpose grown', 'biomass wood - purpose grown', 'biomass - residual'])),\n",
    "    \"val\"\n",
    "] *= 10\n",
    "\n",
    "large_data.loc[\n",
    "    (large_data[\"model\"]==\"tiam-ucl\")\n",
    "    &(large_data[\"sector\"]==\"Electricity\"),\n",
    "    \"val\"\n",
    "] /= 1000\n",
    "\n",
    "large_data.loc[\n",
    "    (large_data[\"model\"].str.contains(\"remind\"))\n",
    "    &(large_data[\"sector\"]==\"Carbon Dioxide Removal\"),\n",
    "    \"val\"\n",
    "] *= -1\n",
    "\n",
    "large_data.loc[\n",
    "    (large_data[\"model\"] == \"tiam-ucl\")\n",
    "    &(large_data[\"sector\"]==\"Carbon Dioxide Removal\"),\n",
    "    \"val\"\n",
    "] /= 1000\n",
    "\n"
   ],
   "id": "c8c7c645f613149d",
   "outputs": [],
   "execution_count": 17
  },
  {
   "metadata": {
    "ExecuteTime": {
     "end_time": "2025-07-30T07:41:17.150066Z",
     "start_time": "2025-07-30T07:41:17.071764Z"
    }
   },
   "cell_type": "code",
   "source": [
    "large_data = large_data.loc[large_data[\"val\"] != 0]\n",
    "large_data = large_data.loc[large_data[\"val\"].abs()>0.1]"
   ],
   "id": "bd26ec9d903f96f3",
   "outputs": [],
   "execution_count": 18
  },
  {
   "metadata": {
    "ExecuteTime": {
     "end_time": "2025-07-30T07:41:18.088264Z",
     "start_time": "2025-07-30T07:41:17.164359Z"
    }
   },
   "cell_type": "code",
   "source": [
    "fp = f\"../data/structured_data {str(__version__)}.csv\"\n",
    "large_data.to_csv(fp)"
   ],
   "id": "b2bc5b9cc4661fc7",
   "outputs": [],
   "execution_count": 19
  },
  {
   "metadata": {},
   "cell_type": "code",
   "outputs": [],
   "execution_count": null,
   "source": "",
   "id": "ac1ff2f4d575b60c"
  }
 ],
 "metadata": {
  "kernelspec": {
   "display_name": "Python 3",
   "language": "python",
   "name": "python3"
  },
  "language_info": {
   "codemirror_mode": {
    "name": "ipython",
    "version": 2
   },
   "file_extension": ".py",
   "mimetype": "text/x-python",
   "name": "python",
   "nbconvert_exporter": "python",
   "pygments_lexer": "ipython2",
   "version": "2.7.6"
  }
 },
 "nbformat": 4,
 "nbformat_minor": 5
}
